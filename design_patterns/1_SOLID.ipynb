{
 "cells": [
  {
   "cell_type": "markdown",
   "id": "91c3fe90",
   "metadata": {},
   "source": [
    "# SOLID Design Principles\n",
    "\n",
    "Useful principles of object-oriented design. Design patterns are reusable solution to common programming problems. It is designed and Introduced by Robert C. Martin.\n",
    "\n",
    "**SOLID stands for:**\n",
    "- S - Single Responsibility Principle\n",
    "- O - Open-Closed Principle\n",
    "- L - Liskov Substitution Principle\n",
    "- I - Interface Segregation Principle\n",
    "- D - Dependency Inversion Principle"
   ]
  },
  {
   "cell_type": "markdown",
   "id": "2417872d",
   "metadata": {},
   "source": [
    "## Single Responsibility Principle _or_ Separation of Concern\n",
    "\n",
    "When you have a class, the class should have it's primary responsibility and it should not take on other responsibility. "
   ]
  },
  {
   "cell_type": "code",
   "execution_count": 1,
   "id": "471cef4a",
   "metadata": {},
   "outputs": [],
   "source": [
    "# SRP SOC\n",
    "\n",
    "class Journal:\n",
    "    def __init__(self):\n",
    "        self.entries = []\n",
    "        self.count = 0\n",
    "        \n",
    "    def add_entry(self, text):\n",
    "        self.count += 1\n",
    "        self.entries.append(f\"{self.count}: {text}\")\n",
    "        \n",
    "    def remove_entry(self, position):\n",
    "        del self.entries[position]\n",
    "        \n",
    "    def __str__(self):\n",
    "        return \"\\n\".join(self.entries)"
   ]
  },
  {
   "cell_type": "code",
   "execution_count": 2,
   "id": "7b117f4c",
   "metadata": {},
   "outputs": [],
   "source": [
    "journal = Journal()\n",
    "journal.add_entry(\"Beautiful day!\")\n",
    "journal.add_entry(\"Bad Weather\")"
   ]
  },
  {
   "cell_type": "code",
   "execution_count": 3,
   "id": "690a7644",
   "metadata": {},
   "outputs": [
    {
     "data": {
      "text/plain": [
       "2"
      ]
     },
     "execution_count": 3,
     "metadata": {},
     "output_type": "execute_result"
    }
   ],
   "source": [
    "journal.count"
   ]
  },
  {
   "cell_type": "code",
   "execution_count": 4,
   "id": "4e188266",
   "metadata": {},
   "outputs": [
    {
     "data": {
      "text/plain": [
       "'1: Beautiful day!\\n2: Bad Weather'"
      ]
     },
     "execution_count": 4,
     "metadata": {},
     "output_type": "execute_result"
    }
   ],
   "source": [
    "str(journal)"
   ]
  },
  {
   "cell_type": "markdown",
   "id": "40d876f1",
   "metadata": {},
   "source": [
    "So far, it is following the SRP (single responsibility principle)\n",
    "Now, we'll try to add some more functionality to it."
   ]
  },
  {
   "cell_type": "code",
   "execution_count": 5,
   "id": "73380b86",
   "metadata": {},
   "outputs": [],
   "source": [
    "# SRP SOC\n",
    "\n",
    "class Journal:\n",
    "    def __init__(self):\n",
    "        self.entries = []\n",
    "        self.count = 0\n",
    "        \n",
    "    def add_entry(self, text):\n",
    "        self.count += 1\n",
    "        self.entries.append(f\"{self.count}: {text}\")\n",
    "        \n",
    "    def remove_entry(self, position):\n",
    "        del self.entries[position]\n",
    "        \n",
    "    def save(self, filename):\n",
    "        with open(filename, 'w') as f:\n",
    "            f.write(str(self))\n",
    "            \n",
    "    def load(self):\n",
    "        pass\n",
    "        \n",
    "    def load_from_web(self):\n",
    "        pass\n",
    "        \n",
    "    def __str__(self):\n",
    "        return \"\\n\".join(self.entries)"
   ]
  },
  {
   "cell_type": "markdown",
   "id": "5a9c591f",
   "metadata": {},
   "source": [
    "Now, the problem with above class is that we've added secondary responsibility.  \n",
    "It it is taking the responsibility of persistance. Which are our `save`, `load` & `load_from_web` method."
   ]
  },
  {
   "cell_type": "markdown",
   "id": "56008730",
   "metadata": {},
   "source": [
    "In order to manage all of that, we should be using another class to manage persistency."
   ]
  },
  {
   "cell_type": "code",
   "execution_count": 6,
   "id": "5558ce90",
   "metadata": {},
   "outputs": [],
   "source": [
    "class Journal:\n",
    "    def __init__(self):\n",
    "        self.entries = []\n",
    "        self.count = 0\n",
    "        \n",
    "    def add_entry(self, text):\n",
    "        self.count += 1\n",
    "        self.entries.append(f\"{self.count}: {text}\")\n",
    "        \n",
    "    def remove_entry(self, position):\n",
    "        del self.entries[position]\n",
    "        \n",
    "    def __str__(self):\n",
    "        return \"\\n\".join(self.entries)\n",
    "    \n",
    "\n",
    "class PersistenceManager:\n",
    "    \n",
    "    @staticmethod\n",
    "    def save_to_file(journal, filename):\n",
    "        with open(filename, 'w') as f:\n",
    "            f.write(str(journal))"
   ]
  },
  {
   "cell_type": "code",
   "execution_count": 7,
   "id": "fd15b2ed",
   "metadata": {},
   "outputs": [],
   "source": [
    "j = Journal()\n",
    "j.add_entry(\"I cried today\")\n",
    "j.add_entry(\"I ate a bug\")\n",
    "PersistenceManager().save_to_file(j, \"journal.txt\")"
   ]
  },
  {
   "cell_type": "code",
   "execution_count": 8,
   "id": "51c88fc0",
   "metadata": {},
   "outputs": [
    {
     "data": {
      "text/plain": [
       "'1: I cried today\\n2: I ate a bug'"
      ]
     },
     "execution_count": 8,
     "metadata": {},
     "output_type": "execute_result"
    }
   ],
   "source": [
    "open(\"journal.txt\").read()"
   ]
  },
  {
   "cell_type": "markdown",
   "id": "08e201d7",
   "metadata": {},
   "source": [
    "_PS: Single Responsibility Principle helps us to prevent from creating god object, means, it has alot of functionality which is anti-pattern_"
   ]
  },
  {
   "cell_type": "markdown",
   "id": "f8f9ffd4",
   "metadata": {},
   "source": [
    "## Open Closed Principle\n",
    "\n",
    "OCP means - Open for extension, Closed for modification"
   ]
  },
  {
   "cell_type": "code",
   "execution_count": 9,
   "id": "2e52fced",
   "metadata": {},
   "outputs": [],
   "source": [
    "from enum import Enum\n",
    "\n",
    "class Color(Enum):\n",
    "    RED = 1\n",
    "    GREEN = 2\n",
    "    BLUE = 3\n",
    "    \n",
    "class Size(Enum):\n",
    "    SMALL = 1\n",
    "    MEDIUM = 2\n",
    "    LARGE = 3"
   ]
  },
  {
   "cell_type": "code",
   "execution_count": 10,
   "id": "b4388bce",
   "metadata": {},
   "outputs": [],
   "source": [
    "class Product:\n",
    "    def __init__(self, name, color, size):\n",
    "        self.name = name\n",
    "        self.color = color\n",
    "        self.size = size"
   ]
  },
  {
   "cell_type": "code",
   "execution_count": 11,
   "id": "6cd94b95",
   "metadata": {},
   "outputs": [],
   "source": [
    "class ProductFilter:\n",
    "    def filter_by_color(self, products, color):\n",
    "        for p in products:\n",
    "            if p.color == color:\n",
    "                yield p\n",
    "                \n",
    "    def filter_by_size(self, products, size):\n",
    "        for p in products:\n",
    "            if p.size == size:\n",
    "                yield p\n",
    "                \n",
    "    def filter_by_size_and_color(self, products, size, color):\n",
    "        for p in products:\n",
    "            if p.size == size and p.color == color:\n",
    "                yield p"
   ]
  },
  {
   "cell_type": "markdown",
   "id": "16363aca",
   "metadata": {},
   "source": [
    "In above class `ProductFilter` you can see that based on certain conditions we are adding filters, which is not a good design, it can't be scaled also with new requirements we've to keep adding new functions which is not adviced.\n",
    "\n",
    "Imagine you've 3 or 4 criteria, then this class will clearly explode, you will end up writing multiple functions.\n",
    "\n",
    "So, in order to fix this issue, we are going to create something called as Enterprise pattern (Specification) which will help us to deal with this problem."
   ]
  },
  {
   "cell_type": "code",
   "execution_count": 12,
   "id": "a1a72472",
   "metadata": {},
   "outputs": [],
   "source": [
    "class Specification:\n",
    "    def is_satisfied(self, item):\n",
    "        pass\n",
    "    \n",
    "class Filter:\n",
    "    def filter(self, items, spec: Specification):\n",
    "        pass\n",
    "    "
   ]
  },
  {
   "cell_type": "markdown",
   "id": "f454477d",
   "metadata": {},
   "source": [
    "Now, let's say you want to filter by color, Then you'll create a color specification class"
   ]
  },
  {
   "cell_type": "code",
   "execution_count": 13,
   "id": "368009b6",
   "metadata": {},
   "outputs": [],
   "source": [
    "class ColorSpecification(Specification):\n",
    "    def __init__(self, color: Color):\n",
    "        self.color = color\n",
    "    \n",
    "    def is_satisfied(self, item):\n",
    "        return item.color == self.color"
   ]
  },
  {
   "cell_type": "markdown",
   "id": "bad4bfe6",
   "metadata": {},
   "source": [
    "Similarly, we are going to create specification for other filters"
   ]
  },
  {
   "cell_type": "code",
   "execution_count": 14,
   "id": "38ecd284",
   "metadata": {},
   "outputs": [],
   "source": [
    "class SizeSpecification(Specification):\n",
    "    def __init__(self, size: Size):\n",
    "        self.size = size\n",
    "        \n",
    "    def is_satisfied(self, item):\n",
    "        return item.size == self.size"
   ]
  },
  {
   "cell_type": "markdown",
   "id": "a22e5469",
   "metadata": {},
   "source": [
    "Now, we'll see how we can actually use this custom specification classes, in order to do that, we'll also inherit from the filter class."
   ]
  },
  {
   "cell_type": "code",
   "execution_count": 24,
   "id": "37231021",
   "metadata": {},
   "outputs": [],
   "source": [
    "class BetterFilter(Filter):\n",
    "    def filter(self, items, spec):\n",
    "        for item in items:\n",
    "            if spec.is_satisfied(item):\n",
    "                yield item"
   ]
  },
  {
   "cell_type": "code",
   "execution_count": 16,
   "id": "ca8c3cc2",
   "metadata": {},
   "outputs": [],
   "source": [
    "apple = Product(\"Apple\", Color.GREEN, Size.SMALL)\n",
    "tree = Product(\"Tree\", Color.GREEN, Size.LARGE)\n",
    "house = Product(\"House\", Color.BLUE, Size.LARGE)\n",
    "\n",
    "products = [apple, tree, house]"
   ]
  },
  {
   "cell_type": "code",
   "execution_count": 21,
   "id": "fe0bd86f",
   "metadata": {},
   "outputs": [
    {
     "name": "stdout",
     "output_type": "stream",
     "text": [
      "Green Products (old)\n",
      "Apple\n",
      "Tree\n"
     ]
    }
   ],
   "source": [
    "## Filtering using old approach\n",
    "pf = ProductFilter()\n",
    "print(\"Green Products (old)\")\n",
    "for p in pf.filter_by_color(products, Color.GREEN):\n",
    "    print(p.name)"
   ]
  },
  {
   "cell_type": "code",
   "execution_count": 26,
   "id": "b1d5b319",
   "metadata": {},
   "outputs": [
    {
     "name": "stdout",
     "output_type": "stream",
     "text": [
      "Green Products (new)\n",
      "Apple\n",
      "Tree\n",
      "Large size products (new)\n",
      "Tree\n",
      "House\n"
     ]
    }
   ],
   "source": [
    "## Filtering using new approach\n",
    "\n",
    "# better filter instance\n",
    "bf = BetterFilter()\n",
    "\n",
    "# creating color specification\n",
    "green = ColorSpecification(Color.GREEN)\n",
    "\n",
    "print(\"Green Products (new)\")\n",
    "for p in bf.filter(products, green):\n",
    "    print(p.name)\n",
    "    \n",
    "print(\"Large size products (new)\")\n",
    "large = SizeSpecification(Size.LARGE)\n",
    "for p in bf.filter(products, large):\n",
    "    print(p.name)"
   ]
  },
  {
   "cell_type": "markdown",
   "id": "e5d4f8d0",
   "metadata": {},
   "source": [
    "Now, the question is how can we implement multiple specification at the same time, eg: size and color of certain type. In order to do that, we need something called as combinator"
   ]
  },
  {
   "cell_type": "code",
   "execution_count": 27,
   "id": "1dfcc56a",
   "metadata": {},
   "outputs": [],
   "source": [
    "class AndSpecification(Specification):\n",
    "    def __init__(self, *args):\n",
    "        self.args = args\n",
    "        \n",
    "    def is_satisfied(self, item):\n",
    "        return all(map(\n",
    "            lambda spec: spec.is_satisfied(item), self.args\n",
    "        ))"
   ]
  },
  {
   "cell_type": "code",
   "execution_count": 28,
   "id": "ba753798",
   "metadata": {},
   "outputs": [
    {
     "name": "stdout",
     "output_type": "stream",
     "text": [
      "Large blue items\n",
      "House\n"
     ]
    }
   ],
   "source": [
    "print(\"Large blue items\")\n",
    "large_blue = AndSpecification(large, ColorSpecification(Color.BLUE))\n",
    "\n",
    "for p in bf.filter(products, large_blue):\n",
    "    print(p.name)"
   ]
  },
  {
   "cell_type": "markdown",
   "id": "283c0587",
   "metadata": {},
   "source": [
    "This is how we can add multiple and filters to the set of products\n",
    "\n",
    "Another way to deal with it in more intutive way is to override `&` operator"
   ]
  },
  {
   "cell_type": "code",
   "execution_count": 31,
   "id": "8ae7e28e",
   "metadata": {},
   "outputs": [],
   "source": [
    "class Specification:\n",
    "    def is_satisfied(self, item):\n",
    "        pass\n",
    "    \n",
    "    def __and__(self, other):\n",
    "        return AndSpecification(self, other)"
   ]
  },
  {
   "cell_type": "code",
   "execution_count": 33,
   "id": "8df646f1",
   "metadata": {},
   "outputs": [
    {
     "name": "stdout",
     "output_type": "stream",
     "text": [
      "Apple\n"
     ]
    }
   ],
   "source": [
    "class ColorSpecification(Specification):\n",
    "    def __init__(self, color: Color):\n",
    "        self.color = color\n",
    "    \n",
    "    def is_satisfied(self, item):\n",
    "        return item.color == self.color\n",
    "    \n",
    "class SizeSpecification(Specification):\n",
    "    def __init__(self, size: Size):\n",
    "        self.size = size\n",
    "        \n",
    "    def is_satisfied(self, item):\n",
    "        return item.size == self.size\n",
    "\n",
    "\n",
    "\n",
    "size_spec = SizeSpecification(Size.SMALL)\n",
    "color_spec = ColorSpecification(Color.GREEN)\n",
    "\n",
    "small_green = size_spec & color_spec\n",
    "\n",
    "for p in bf.filter(products, small_green):\n",
    "    print(p.name)"
   ]
  },
  {
   "cell_type": "markdown",
   "id": "aa6bc6d4",
   "metadata": {},
   "source": [
    "## Liskov Substitution Principle\n",
    "\n",
    "The idea is if you have some interface that take some sort of base class, you should be able to stick a derived class in there and everything should work."
   ]
  },
  {
   "cell_type": "code",
   "execution_count": 37,
   "id": "fb63c0c2",
   "metadata": {},
   "outputs": [],
   "source": [
    "class Rectangle:\n",
    "    def __init__(self, width, height):\n",
    "        self._height = height\n",
    "        self._width = width\n",
    "        \n",
    "    @property\n",
    "    def area(self):\n",
    "        return self._width * self._height\n",
    "    \n",
    "    def __str__(self):\n",
    "        return f\"Width: {self.width}, Height: {self.height}\"\n",
    "        \n",
    "    @property\n",
    "    def width(self):\n",
    "        return self._width\n",
    "    \n",
    "    @width.setter\n",
    "    def width(self, value):\n",
    "        self._width = value\n",
    "        \n",
    "    @property\n",
    "    def height(self):\n",
    "        return self._height\n",
    "    \n",
    "    @height.setter\n",
    "    def height(self, value):\n",
    "        self._height = value"
   ]
  },
  {
   "cell_type": "markdown",
   "id": "b61381d1",
   "metadata": {},
   "source": [
    "Why did we do it?\n",
    "Well we'll see a particular kind of side effect of breaking the risk of substitution principle using inheritance"
   ]
  },
  {
   "cell_type": "code",
   "execution_count": 38,
   "id": "516d1bc4",
   "metadata": {},
   "outputs": [],
   "source": [
    "def use_it(rc):\n",
    "    w = rc.width\n",
    "    rc.height = 10\n",
    "    expected = int(w*10)\n",
    "    print(f\"Expected an area of {expected}, got {rc.area}\")"
   ]
  },
  {
   "cell_type": "code",
   "execution_count": 39,
   "id": "4e7b7c3f",
   "metadata": {},
   "outputs": [
    {
     "name": "stdout",
     "output_type": "stream",
     "text": [
      "Expected an area of 20, got 20\n"
     ]
    }
   ],
   "source": [
    "rc = Rectangle(2, 3)\n",
    "use_it(rc)"
   ]
  },
  {
   "cell_type": "markdown",
   "id": "8ccd764a",
   "metadata": {},
   "source": [
    "Now, let see how we can break the list of substitution principle by making a derived class, which inherits from Rectangle which absolutely does not work with this method.\n",
    "\n",
    "And, in this process we'll see why we chose to use properties as opposed to just attributes"
   ]
  },
  {
   "cell_type": "code",
   "execution_count": 46,
   "id": "d016d094",
   "metadata": {},
   "outputs": [],
   "source": [
    "class Square(Rectangle):\n",
    "    def __init__(self, size):\n",
    "        Rectangle.__init__(self, size, size)\n",
    "        \n",
    "    @Rectangle.width.setter\n",
    "    def width(self, value):\n",
    "        self._width = self._height = value\n",
    "        \n",
    "    @Rectangle.height.setter\n",
    "    def height(self, value):\n",
    "        self._width = self._height = value"
   ]
  },
  {
   "cell_type": "markdown",
   "id": "66a733e5",
   "metadata": {},
   "source": [
    "Unfortunately, this breaks the Liskov Substitution principle. "
   ]
  },
  {
   "cell_type": "code",
   "execution_count": 47,
   "id": "8345bc1e",
   "metadata": {},
   "outputs": [
    {
     "name": "stdout",
     "output_type": "stream",
     "text": [
      "Expected an area of 50, got 100\n"
     ]
    }
   ],
   "source": [
    "sq = Square(5)\n",
    "use_it(sq)"
   ]
  },
  {
   "cell_type": "markdown",
   "id": "398f81cc",
   "metadata": {},
   "source": [
    "As we can see above, the answer is incorrect, so what is the problem here.\n",
    "\n",
    "```\n",
    "def use_it(rc):\n",
    "    w = rc.width\n",
    "    rc.height = 10 #### This is the problem, rc.height = 10, has a side effect which will also change the width, so the width that we got here is no longer valid\n",
    "    expected = int(w*10)\n",
    "    print(f\"Expected an area of {expected}, got {rc.area}\")\n",
    "```"
   ]
  },
  {
   "cell_type": "markdown",
   "id": "d6770854",
   "metadata": {},
   "source": [
    "## Interface Segregation Principle\n",
    "\n",
    "The idea is that you don't really want to stick to many elements, to many methods into an interface, So let's suppose that you are trying to define some sort of machine for printing and scanning and faxing things and so on. So it might seem like a good idea to just define a single interface that's a rather large interface and then let you clients kind of implement this however they want"
   ]
  },
  {
   "cell_type": "code",
   "execution_count": 1,
   "id": "0c3aa0d2",
   "metadata": {},
   "outputs": [],
   "source": [
    "class Machine:\n",
    "    def print(self, document):\n",
    "        raise NotImplementedError\n",
    "        \n",
    "    def fax(self, document):\n",
    "        raise NotImplementedError\n",
    "        \n",
    "    def scan(self, document):\n",
    "        raise NotImplementedError"
   ]
  },
  {
   "cell_type": "markdown",
   "id": "42cf3aee",
   "metadata": {},
   "source": [
    "This interface might seem like a good idea, because if somebody is making  a multifunctional printer, they everything is fine, they need to actually have all of these and they need to implement them. "
   ]
  },
  {
   "cell_type": "code",
   "execution_count": 2,
   "id": "b237b31b",
   "metadata": {},
   "outputs": [],
   "source": [
    "class MultiFunctionPrinter(Machine):\n",
    "    def print(self, document):\n",
    "        pass\n",
    "    \n",
    "    def fax(self, document):\n",
    "        pass\n",
    "    \n",
    "    def scan(self, document):\n",
    "        pass"
   ]
  },
  {
   "cell_type": "markdown",
   "id": "287ebe41",
   "metadata": {},
   "source": [
    "Now, the problem is what happens when you want to make, let's say an old fashioned printer, Now, remember that we only have this one interface to work with"
   ]
  },
  {
   "cell_type": "code",
   "execution_count": 3,
   "id": "79a2ca73",
   "metadata": {},
   "outputs": [],
   "source": [
    "class OldFashionedPrinter(Machine):\n",
    "    def print(self, document):\n",
    "        # OK\n",
    "        pass\n",
    "    \n",
    "    def fax(self, document):\n",
    "        # Does not support\n",
    "        pass\n",
    "    \n",
    "    def scan(self, document):\n",
    "        # Does not support\n",
    "        pass"
   ]
  },
  {
   "cell_type": "markdown",
   "id": "b7b99496",
   "metadata": {},
   "source": [
    "Certainly, an old fashioned printer can print, but it connot fax or scan, so what is that we can do here.\n",
    "\n",
    "- One approach is to simply just do nothing, but this in itself is problematic, Well, because if somebody makes an instance of an old fashioned printer, they're still going to see fax as an interface member. \n",
    "- The another alternative is that you start complaining, means you raise a NotImplemented error where you say, for example printer cannot scan this way. \n",
    "-----\n",
    "\n",
    "So, the idea of interface aggregation is basically the following.\n",
    "- The idea is that instead of having one large interface with several members in it, what you want to do is you want to keep things granular. You want to split this interface into separate parts that people can implement. So if somebody wants to print something, they can have an interface called Printer, if they have scanning functionality, they can implement an additional interafce canned scanner\n"
   ]
  },
  {
   "cell_type": "code",
   "execution_count": 4,
   "id": "cda241cf",
   "metadata": {},
   "outputs": [],
   "source": [
    "from abc import ABC, abstractmethod\n",
    "\n",
    "class Printer(ABC):\n",
    "    @abstractmethod\n",
    "    def print(self, document):\n",
    "        pass\n",
    "    \n",
    "class Scanner(ABC):\n",
    "    @abstractmethod\n",
    "    def scan(self, document):\n",
    "        pass\n",
    "    \n",
    "class Fax(ABC):\n",
    "    @abstractmethod\n",
    "    def fax(self, document):\n",
    "        pass"
   ]
  },
  {
   "cell_type": "markdown",
   "id": "4ef76487",
   "metadata": {},
   "source": [
    "Now, for example if you just want a printer, or a photocopier which have both print and scan functionality"
   ]
  },
  {
   "cell_type": "code",
   "execution_count": 6,
   "id": "53ddc9bd",
   "metadata": {},
   "outputs": [
    {
     "name": "stdout",
     "output_type": "stream",
     "text": [
      "P R I N T E D\n"
     ]
    }
   ],
   "source": [
    "class MyPrinter(Printer):\n",
    "    def print(self, document):\n",
    "        print(\"P R I N T E D\")\n",
    "        \n",
    "ptr = MyPrinter()\n",
    "ptr.print(\"doc\")"
   ]
  },
  {
   "cell_type": "code",
   "execution_count": 7,
   "id": "0604d9d0",
   "metadata": {},
   "outputs": [
    {
     "name": "stdout",
     "output_type": "stream",
     "text": [
      "PRINTED: MRINAL\n",
      "SCANNED: SINHA\n"
     ]
    }
   ],
   "source": [
    "class PhotoCopier(Printer, Scanner):\n",
    "    def print(self, doc):\n",
    "        print(f\"PRINTED: {doc}\")\n",
    "        \n",
    "    def scan(self, doc):\n",
    "        print(f\"SCANNED: {doc}\")\n",
    "        \n",
    "pc = PhotoCopier()\n",
    "pc.print(\"MRINAL\")\n",
    "pc.scan(\"SINHA\")"
   ]
  },
  {
   "cell_type": "markdown",
   "id": "ef706119",
   "metadata": {},
   "source": [
    "Now, if you want to have multi functionality printer you can have that"
   ]
  },
  {
   "cell_type": "code",
   "execution_count": 8,
   "id": "41d3c0ee",
   "metadata": {},
   "outputs": [],
   "source": [
    "class MultiFunctionDevice(Printer, Scanner, Fax):\n",
    "    @abstractmethod\n",
    "    def print(self, doc):\n",
    "        raise NotImplementedError\n",
    "        \n",
    "    @abstractmethod\n",
    "    def scan(self, doc):\n",
    "        raise NotImplementedError\n",
    "        \n",
    "    @abstractmethod\n",
    "    def fax(self, doc):\n",
    "        raise NotImplementedError"
   ]
  },
  {
   "cell_type": "markdown",
   "id": "fb90367e",
   "metadata": {},
   "source": [
    "Now, if someone want to have a multi function machine, you can say, well this is going to implment multi function machine "
   ]
  },
  {
   "cell_type": "code",
   "execution_count": 9,
   "id": "5b1cfa74",
   "metadata": {},
   "outputs": [],
   "source": [
    "class MultiFunctionMachine(MultiFunctionDevice):\n",
    "    def __init__(self, printer, scanner, fax):\n",
    "        self.scanner = scanner\n",
    "        self.printer = printer\n",
    "        self.fax = fax\n",
    "    \n",
    "    def print(self, doc):\n",
    "        self.printer.print(doc)\n",
    "        \n",
    "    def scan(self, doc):\n",
    "        self.scanner.scan(doc)\n",
    "        \n",
    "    def fax(self, doc):\n",
    "        self.fax.fax(doc)"
   ]
  },
  {
   "cell_type": "markdown",
   "id": "388897ab",
   "metadata": {},
   "source": [
    "## Dependency Inversion Principle"
   ]
  }
 ],
 "metadata": {
  "kernelspec": {
   "display_name": "Python 3 (ipykernel)",
   "language": "python",
   "name": "python3"
  },
  "language_info": {
   "codemirror_mode": {
    "name": "ipython",
    "version": 3
   },
   "file_extension": ".py",
   "mimetype": "text/x-python",
   "name": "python",
   "nbconvert_exporter": "python",
   "pygments_lexer": "ipython3",
   "version": "3.10.4"
  }
 },
 "nbformat": 4,
 "nbformat_minor": 5
}
