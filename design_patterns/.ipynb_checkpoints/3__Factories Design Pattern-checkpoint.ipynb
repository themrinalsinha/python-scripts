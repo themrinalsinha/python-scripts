{
 "cells": [
  {
   "cell_type": "markdown",
   "id": "a2671cc7",
   "metadata": {},
   "source": [
    "## Factories Design Pattern\n",
    "It is a fusion of two different design pattern \"Factory Method\" and \"Abstract Factory\""
   ]
  },
  {
   "cell_type": "markdown",
   "id": "55f5d550",
   "metadata": {},
   "source": [
    "**Why ?**\n",
    "\n",
    "- Object creation logic becomes too convoluted\n",
    "- Initializer is not descriptive\n",
    "  - Name is always `__init__`\n",
    "  - cannot overload with same sets of arguments with different names\n",
    "  - can turn into optional parameter hell\n",
    "- Wholesale object creation (non-piecewise, unlike builder) can be outsourced to\n",
    "  - A separate method (Factory Method)\n",
    "  - That may exist in a separate class (Factory)\n",
    "  - Can create hierarchy of factories with Abstract Factory\n",
    "  \n",
    "**Defination**: A component responsible solely for the wholesale (not peicewise) creation of objects"
   ]
  },
  {
   "cell_type": "markdown",
   "id": "79b7ea6e",
   "metadata": {},
   "source": [
    "### Factory Method"
   ]
  },
  {
   "cell_type": "code",
   "execution_count": 7,
   "id": "944d794e",
   "metadata": {},
   "outputs": [],
   "source": [
    "from enum import Enum\n",
    "from math import *\n",
    "\n",
    "\n",
    "class CoordinateSystem(Enum):\n",
    "    CARTESIAN = 1\n",
    "    POLAR = 2\n",
    "\n",
    "    \n",
    "class Point:\n",
    "    def __init__(self, x, y, system=CoordinateSystem.CARTESIAN):\n",
    "        if system == CoordinateSystem.CARTESIAN:\n",
    "            self.x = x\n",
    "            self.y = y\n",
    "            \n",
    "        elif system == CoordinateSystem.POLAR:\n",
    "            self.x = x * sin(b)\n",
    "            self.y = a * cos(b)"
   ]
  },
  {
   "cell_type": "markdown",
   "id": "b57a2b39",
   "metadata": {},
   "source": [
    "The above block will work, but it kind of breaks the open-closed principle if there is another coordinate system"
   ]
  },
  {
   "cell_type": "code",
   "execution_count": 8,
   "id": "1b1feb42",
   "metadata": {},
   "outputs": [],
   "source": [
    "class Point:\n",
    "    def __init__(self, x, y):\n",
    "        self.x = x\n",
    "        self.y = y\n",
    "        \n",
    "    def __str__(self):\n",
    "        return f\"Point({self.x}, {self.y})\"\n",
    "    \n",
    "    @staticmethod\n",
    "    def new_cartesian_point(x, y):\n",
    "        return Point(x, y)\n",
    "    \n",
    "    @staticmethod\n",
    "    def new_polar_point(roh, theta):\n",
    "        return Point(roh * cos(theta), roh * sin(theta))\n",
    "    "
   ]
  },
  {
   "cell_type": "code",
   "execution_count": 9,
   "id": "ea1be549",
   "metadata": {},
   "outputs": [
    {
     "name": "stdout",
     "output_type": "stream",
     "text": [
      "Point(2, 3)\n",
      "Point(4, 5)\n",
      "Point(4.523413526059827, 3.9419195923127344)\n"
     ]
    }
   ],
   "source": [
    "p1 = Point(2, 3)\n",
    "print(p1)\n",
    "\n",
    "p2 = Point.new_cartesian_point(4, 5) \n",
    "print(p2)\n",
    "\n",
    "p3 = Point.new_polar_point(6, 7)\n",
    "print(p3)"
   ]
  },
  {
   "cell_type": "markdown",
   "id": "aac7c57b",
   "metadata": {},
   "source": [
    "### Factory"
   ]
  },
  {
   "cell_type": "code",
   "execution_count": 11,
   "id": "606b2b08",
   "metadata": {},
   "outputs": [],
   "source": [
    "class Point:\n",
    "    def __init__(self, x, y):\n",
    "        self.x = x\n",
    "        self.y = y\n",
    "        \n",
    "    def __str__(self):\n",
    "        return f\"Point({self.x}, {self.y})\"\n",
    "        \n",
    "    class PointFactory:\n",
    "        def new_cartesian_point(self, x, y):\n",
    "            return Point(x, y)\n",
    "        \n",
    "        def new_polar_point(self, roh, theta):\n",
    "            return Point(roh * cos(theta), roh * sin(theta))\n",
    "    \n",
    "    factory = PointFactory()"
   ]
  },
  {
   "cell_type": "code",
   "execution_count": 12,
   "id": "668b9830",
   "metadata": {},
   "outputs": [
    {
     "name": "stdout",
     "output_type": "stream",
     "text": [
      "Point(2, 3)\n",
      "Point(4, 5)\n",
      "Point(4.523413526059827, 3.9419195923127344)\n"
     ]
    }
   ],
   "source": [
    "p1 = Point(2, 3)\n",
    "print(p1)\n",
    "\n",
    "p2 = Point.factory.new_cartesian_point(4, 5)\n",
    "print(p2)\n",
    "\n",
    "p3 = Point.factory.new_polar_point(6, 7)\n",
    "print(p3)"
   ]
  },
  {
   "cell_type": "markdown",
   "id": "0c8529c3",
   "metadata": {},
   "source": [
    "### Abstract Factory"
   ]
  },
  {
   "cell_type": "code",
   "execution_count": 13,
   "id": "16c03e4f",
   "metadata": {},
   "outputs": [],
   "source": [
    "from abc import ABC\n",
    "\n",
    "class HotDrink(ABC):\n",
    "    def consume(self):\n",
    "        pass\n",
    "        \n",
    "class Tea(HotDrink):\n",
    "    def consume(self):\n",
    "        print(\"The TEA is delicious\")\n",
    "    \n",
    "class Coffee(HotDrink):\n",
    "    def consume(self):\n",
    "        print(\"The COFFEE is amazing\")\n",
    "        \n",
    "\n",
    "class HotDrintFactory(ABC):\n",
    "    def prepare(self, amount):\n",
    "        pass\n",
    "    \n",
    "class TeaFactory(HotDrintFactory):\n",
    "    def prepare(self, amount):\n",
    "        print(f\"Put in tea bag, boil water, pour {amount}ml enjoy.\")\n",
    "        return Tea()\n",
    "    \n",
    "class CoffeeFactory(HotDrintFactory):\n",
    "    def prepare(self, amount):\n",
    "        print(f\"Put in coffee bag, boil water, pour {amount}ml enjoy.\")\n",
    "        return Coffee()"
   ]
  },
  {
   "cell_type": "code",
   "execution_count": 16,
   "id": "c25d6550",
   "metadata": {},
   "outputs": [],
   "source": [
    "def make_drink(inp_type):\n",
    "    if inp_type == 'tea':\n",
    "        return TeaFactory().prepare(200)\n",
    "    \n",
    "    elif inp_type == 'coffee':\n",
    "        return CoffeeFactory().prepare(200)"
   ]
  },
  {
   "cell_type": "code",
   "execution_count": 17,
   "id": "ccc72a3d",
   "metadata": {},
   "outputs": [
    {
     "name": "stdout",
     "output_type": "stream",
     "text": [
      "Put in tea bag, boil water, pour 200ml enjoy.\n"
     ]
    },
    {
     "data": {
      "text/plain": [
       "<__main__.Tea at 0x7fed742a9150>"
      ]
     },
     "execution_count": 17,
     "metadata": {},
     "output_type": "execute_result"
    }
   ],
   "source": [
    "make_drink(\"tea\")"
   ]
  },
  {
   "cell_type": "code",
   "execution_count": 21,
   "id": "1014e64c",
   "metadata": {},
   "outputs": [
    {
     "name": "stdout",
     "output_type": "stream",
     "text": [
      "Put in coffee bag, boil water, pour 200ml enjoy.\n"
     ]
    },
    {
     "data": {
      "text/plain": [
       "<__main__.Coffee at 0x7fed643cc0a0>"
      ]
     },
     "execution_count": 21,
     "metadata": {},
     "output_type": "execute_result"
    }
   ],
   "source": [
    "make_drink(\"coffee\")"
   ]
  },
  {
   "cell_type": "markdown",
   "id": "cd722db0",
   "metadata": {},
   "source": [
    "Now, we can organize things by making separate component called HotDrinkMachine, which will use different machines"
   ]
  },
  {
   "cell_type": "code",
   "execution_count": 27,
   "id": "7cb66440",
   "metadata": {},
   "outputs": [],
   "source": [
    "class HotDrinkMachine:\n",
    "\n",
    "    class AvailableDrink(Enum):\n",
    "        TEA = 'tea'\n",
    "        COFFEE = 'coffee'\n",
    "        \n",
    "    factories = []\n",
    "    initialized = False\n",
    "        \n",
    "    def __init__(self):\n",
    "        if not self.initialized:\n",
    "            self.initialized = True\n",
    "            \n",
    "        for d in self.AvailableDrink:\n",
    "            name = d.name.capitalize()\n",
    "            factory_name = name + 'Factory'\n",
    "            factory_instance = eval(factory_name)()\n",
    "            self.factories.append((name, factory_instance))\n",
    "            \n",
    "    def make_drink(self):\n",
    "        print(\"Available Drinks\")\n",
    "        for index, f in enumerate(self.factories, start=1):\n",
    "            print(index, f[0])\n",
    "            \n",
    "        s = input(\"Please pick drink\")\n",
    "        idx = int(s)\n",
    "        \n",
    "        s = input(\"Specific amount: \")\n",
    "        amt = int(s)\n",
    "        \n",
    "        return self.factories[idx][1].prepare(amt)"
   ]
  },
  {
   "cell_type": "code",
   "execution_count": 28,
   "id": "d0e8934e",
   "metadata": {},
   "outputs": [
    {
     "name": "stdout",
     "output_type": "stream",
     "text": [
      "Available Drinks\n",
      "1 Tea\n",
      "2 Coffee\n",
      "Please pick drink1\n",
      "Specific amount: 9000\n",
      "Put in coffee bag, boil water, pour 9000ml enjoy.\n"
     ]
    },
    {
     "data": {
      "text/plain": [
       "<__main__.Coffee at 0x7fed4fc6bd00>"
      ]
     },
     "execution_count": 28,
     "metadata": {},
     "output_type": "execute_result"
    }
   ],
   "source": [
    "hdm = HotDrinkMachine()\n",
    "hdm.make_drink()"
   ]
  },
  {
   "cell_type": "markdown",
   "id": "b7694456",
   "metadata": {},
   "source": [
    "## Summary\n",
    "- A factory method is a static method that creates objects\n",
    "- A factory is any entity that can take care of object creation\n",
    "- A factory can be external or reside inside the object as an inner class\n",
    "- Hierarchies of factories can be used to create related objects"
   ]
  }
 ],
 "metadata": {
  "kernelspec": {
   "display_name": "Python 3 (ipykernel)",
   "language": "python",
   "name": "python3"
  },
  "language_info": {
   "codemirror_mode": {
    "name": "ipython",
    "version": 3
   },
   "file_extension": ".py",
   "mimetype": "text/x-python",
   "name": "python",
   "nbconvert_exporter": "python",
   "pygments_lexer": "ipython3",
   "version": "3.10.4"
  }
 },
 "nbformat": 4,
 "nbformat_minor": 5
}
