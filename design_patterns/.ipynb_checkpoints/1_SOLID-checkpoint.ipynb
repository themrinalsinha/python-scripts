{
 "cells": [
  {
   "cell_type": "markdown",
   "id": "91c3fe90",
   "metadata": {},
   "source": [
    "# SOLID Design Principles\n",
    "\n",
    "Useful principles of object-oriented design. Design patterns are reusable solution to common programming problems. It is designed and Introduced by Robert C. Martin.\n",
    "\n",
    "**SOLID stands for:**\n",
    "- S - Single Responsibility Principle\n",
    "- O - Open-Closed Principle\n",
    "- L - Liskov Substitution Principle\n",
    "- I - Interface Segregation Principle\n",
    "- D - Dependency Inversion Principle"
   ]
  },
  {
   "cell_type": "markdown",
   "id": "2417872d",
   "metadata": {},
   "source": [
    "## Single Responsibility Principle _or_ Separation of Concern\n",
    "\n",
    "When you have a class, the class should have it's primary responsibility and it should not take on other responsibility. "
   ]
  },
  {
   "cell_type": "code",
   "execution_count": 1,
   "id": "471cef4a",
   "metadata": {},
   "outputs": [],
   "source": [
    "# SRP SOC\n",
    "\n",
    "class Journal:\n",
    "    def __init__(self):\n",
    "        self.entries = []\n",
    "        self.count = 0\n",
    "        \n",
    "    def add_entry(self, text):\n",
    "        self.count += 1\n",
    "        self.entries.append(f\"{self.count}: {text}\")\n",
    "        \n",
    "    def remove_entry(self, position):\n",
    "        del self.entries[position]\n",
    "        \n",
    "    def __str__(self):\n",
    "        return \"\\n\".join(self.entries)"
   ]
  },
  {
   "cell_type": "code",
   "execution_count": 2,
   "id": "7b117f4c",
   "metadata": {},
   "outputs": [],
   "source": [
    "journal = Journal()\n",
    "journal.add_entry(\"Beautiful day!\")\n",
    "journal.add_entry(\"Bad Weather\")"
   ]
  },
  {
   "cell_type": "code",
   "execution_count": 3,
   "id": "690a7644",
   "metadata": {},
   "outputs": [
    {
     "data": {
      "text/plain": [
       "2"
      ]
     },
     "execution_count": 3,
     "metadata": {},
     "output_type": "execute_result"
    }
   ],
   "source": [
    "journal.count"
   ]
  },
  {
   "cell_type": "code",
   "execution_count": 4,
   "id": "4e188266",
   "metadata": {},
   "outputs": [
    {
     "data": {
      "text/plain": [
       "'1: Beautiful day!\\n2: Bad Weather'"
      ]
     },
     "execution_count": 4,
     "metadata": {},
     "output_type": "execute_result"
    }
   ],
   "source": [
    "str(journal)"
   ]
  },
  {
   "cell_type": "markdown",
   "id": "40d876f1",
   "metadata": {},
   "source": [
    "So far, it is following the SRP (single responsibility principle)\n",
    "Now, we'll try to add some more functionality to it."
   ]
  },
  {
   "cell_type": "code",
   "execution_count": 5,
   "id": "73380b86",
   "metadata": {},
   "outputs": [],
   "source": [
    "# SRP SOC\n",
    "\n",
    "class Journal:\n",
    "    def __init__(self):\n",
    "        self.entries = []\n",
    "        self.count = 0\n",
    "        \n",
    "    def add_entry(self, text):\n",
    "        self.count += 1\n",
    "        self.entries.append(f\"{self.count}: {text}\")\n",
    "        \n",
    "    def remove_entry(self, position):\n",
    "        del self.entries[position]\n",
    "        \n",
    "    def save(self, filename):\n",
    "        with open(filename, 'w') as f:\n",
    "            f.write(str(self))\n",
    "            \n",
    "    def load(self):\n",
    "        pass\n",
    "        \n",
    "    def load_from_web(self):\n",
    "        pass\n",
    "        \n",
    "    def __str__(self):\n",
    "        return \"\\n\".join(self.entries)"
   ]
  },
  {
   "cell_type": "markdown",
   "id": "5a9c591f",
   "metadata": {},
   "source": [
    "Now, the problem with above class is that we've added secondary responsibility.  \n",
    "It it is taking the responsibility of persistance. Which are our `save`, `load` & `load_from_web` method."
   ]
  },
  {
   "cell_type": "markdown",
   "id": "56008730",
   "metadata": {},
   "source": [
    "In order to manage all of that, we should be using another class to manage persistency."
   ]
  },
  {
   "cell_type": "code",
   "execution_count": 6,
   "id": "5558ce90",
   "metadata": {},
   "outputs": [],
   "source": [
    "class Journal:\n",
    "    def __init__(self):\n",
    "        self.entries = []\n",
    "        self.count = 0\n",
    "        \n",
    "    def add_entry(self, text):\n",
    "        self.count += 1\n",
    "        self.entries.append(f\"{self.count}: {text}\")\n",
    "        \n",
    "    def remove_entry(self, position):\n",
    "        del self.entries[position]\n",
    "        \n",
    "    def __str__(self):\n",
    "        return \"\\n\".join(self.entries)\n",
    "    \n",
    "\n",
    "class PersistenceManager:\n",
    "    \n",
    "    @staticmethod\n",
    "    def save_to_file(journal, filename):\n",
    "        with open(filename, 'w') as f:\n",
    "            f.write(str(journal))"
   ]
  },
  {
   "cell_type": "code",
   "execution_count": 7,
   "id": "fd15b2ed",
   "metadata": {},
   "outputs": [],
   "source": [
    "j = Journal()\n",
    "j.add_entry(\"I cried today\")\n",
    "j.add_entry(\"I ate a bug\")\n",
    "PersistenceManager().save_to_file(j, \"journal.txt\")"
   ]
  },
  {
   "cell_type": "code",
   "execution_count": 8,
   "id": "51c88fc0",
   "metadata": {},
   "outputs": [
    {
     "data": {
      "text/plain": [
       "'1: I cried today\\n2: I ate a bug'"
      ]
     },
     "execution_count": 8,
     "metadata": {},
     "output_type": "execute_result"
    }
   ],
   "source": [
    "open(\"journal.txt\").read()"
   ]
  },
  {
   "cell_type": "markdown",
   "id": "08e201d7",
   "metadata": {},
   "source": [
    "_PS: Single Responsibility Principle helps us to prevent from creating god object, means, it has alot of functionality which is anti-pattern_"
   ]
  },
  {
   "cell_type": "markdown",
   "id": "f8f9ffd4",
   "metadata": {},
   "source": [
    "## Open Closed Principle\n",
    "\n",
    "OCP means - Open for extension, Closed for modification"
   ]
  },
  {
   "cell_type": "code",
   "execution_count": 9,
   "id": "2e52fced",
   "metadata": {},
   "outputs": [],
   "source": [
    "from enum import Enum\n",
    "\n",
    "class Color(Enum):\n",
    "    RED = 1\n",
    "    GREEN = 2\n",
    "    BLUE = 3\n",
    "    \n",
    "class Size(Enum):\n",
    "    SMALL = 1\n",
    "    MEDIUM = 2\n",
    "    LARGE = 3"
   ]
  },
  {
   "cell_type": "code",
   "execution_count": 10,
   "id": "b4388bce",
   "metadata": {},
   "outputs": [],
   "source": [
    "class Product:\n",
    "    def __init__(self, name, color, size):\n",
    "        self.name = name\n",
    "        self.color = color\n",
    "        self.size = size"
   ]
  },
  {
   "cell_type": "code",
   "execution_count": 11,
   "id": "6cd94b95",
   "metadata": {},
   "outputs": [],
   "source": [
    "class ProductFilter:\n",
    "    def filter_by_color(self, products, color):\n",
    "        for p in products:\n",
    "            if p.color == color:\n",
    "                yield p\n",
    "                \n",
    "    def filter_by_size(self, products, size):\n",
    "        for p in products:\n",
    "            if p.size == size:\n",
    "                yield p\n",
    "                \n",
    "    def filter_by_size_and_color(self, products, size, color):\n",
    "        for p in products:\n",
    "            if p.size == size and p.color == color:\n",
    "                yield p"
   ]
  },
  {
   "cell_type": "markdown",
   "id": "16363aca",
   "metadata": {},
   "source": [
    "In above class `ProductFilter` you can see that based on certain conditions we are adding filters, which is not a good design, it can't be scaled also with new requirements we've to keep adding new functions which is not adviced.\n",
    "\n",
    "Imagine you've 3 or 4 criteria, then this class will clearly explode, you will end up writing multiple functions.\n",
    "\n",
    "So, in order to fix this issue, we are going to create something called as Enterprise pattern (Specification) which will help us to deal with this problem."
   ]
  },
  {
   "cell_type": "code",
   "execution_count": 12,
   "id": "a1a72472",
   "metadata": {},
   "outputs": [],
   "source": [
    "class Specification:\n",
    "    def is_satisfied(self, item):\n",
    "        pass\n",
    "    \n",
    "class Filter:\n",
    "    def filter(self, items, spec: Specification):\n",
    "        pass\n",
    "    "
   ]
  },
  {
   "cell_type": "markdown",
   "id": "c3a2c587",
   "metadata": {},
   "source": [
    "Now, let's say you want to filter by color, Then you'll create a color specification class"
   ]
  },
  {
   "cell_type": "code",
   "execution_count": null,
   "id": "7b03e49e",
   "metadata": {},
   "outputs": [],
   "source": [
    "class ColorSpecification(Specification):\n",
    "    def __init__(self, color: Color):\n",
    "        self.color = color\n",
    "    \n",
    "    def is_satisfied(self, item):\n",
    "        "
   ]
  },
  {
   "cell_type": "code",
   "execution_count": null,
   "id": "ba753798",
   "metadata": {},
   "outputs": [],
   "source": []
  }
 ],
 "metadata": {
  "kernelspec": {
   "display_name": "Python 3 (ipykernel)",
   "language": "python",
   "name": "python3"
  },
  "language_info": {
   "codemirror_mode": {
    "name": "ipython",
    "version": 3
   },
   "file_extension": ".py",
   "mimetype": "text/x-python",
   "name": "python",
   "nbconvert_exporter": "python",
   "pygments_lexer": "ipython3",
   "version": "3.10.4"
  }
 },
 "nbformat": 4,
 "nbformat_minor": 5
}
