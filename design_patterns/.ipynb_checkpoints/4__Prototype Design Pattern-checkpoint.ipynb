{
 "cells": [
  {
   "cell_type": "markdown",
   "id": "77fdeaa0",
   "metadata": {},
   "source": [
    "## Prototype Design Pattern\n",
    "When it's easier to copy an existing object to fully initialize a new one\n",
    "\n",
    "- Complicated objects (eg cars) aren't designed from scratch\n",
    "  - They reiterate existing designs\n",
    "- An existing (partially or fully constructed) design is a Prototype\n",
    "- We make a copy (clone) the prototype and customize it\n",
    "  - Requires \"deep copy\" support\n",
    "- We make the cloning convenient (eg. via a Factory)"
   ]
  },
  {
   "cell_type": "markdown",
   "id": "ea86ed7f",
   "metadata": {},
   "source": [
    "**Definition**: A partially or fully initialized object that you copy (clone) and make use of"
   ]
  },
  {
   "cell_type": "code",
   "execution_count": 8,
   "id": "dc67172c",
   "metadata": {},
   "outputs": [],
   "source": [
    "class Address:\n",
    "    def __init__(self, street, city, country):\n",
    "        self.street = street\n",
    "        self.city = city\n",
    "        self.country = country\n",
    "        \n",
    "    def __str__(self):\n",
    "        return f\"Address({self.street}, {self.city}, {self.country})\"\n",
    "        \n",
    "\n",
    "class Person:\n",
    "    def __init__(self, name, address: Address):\n",
    "        self.name = name\n",
    "        self.address = address\n",
    "    \n",
    "    def __str__(self):\n",
    "        return f\"Person({self.name}) from - {self.address}\""
   ]
  },
  {
   "cell_type": "code",
   "execution_count": 9,
   "id": "9f3cb1b5",
   "metadata": {},
   "outputs": [
    {
     "name": "stdout",
     "output_type": "stream",
     "text": [
      "Person(John Cena) from - Address(41st, New York, India)\n"
     ]
    }
   ],
   "source": [
    "john = Person(\"John Cena\", Address(\"41st\", \"New York\", \"India\"))\n",
    "print(john)"
   ]
  },
  {
   "cell_type": "code",
   "execution_count": 11,
   "id": "13e92fec",
   "metadata": {},
   "outputs": [
    {
     "name": "stdout",
     "output_type": "stream",
     "text": [
      "Person(John Cena) from - Address(41st, New York, India)\n",
      "Person(Jane) from - Address(41st, New York, USA)\n"
     ]
    }
   ],
   "source": [
    "from copy import deepcopy\n",
    "\n",
    "jane = deepcopy(john)\n",
    "jane.name = \"Jane\"\n",
    "jane.address.country = \"USA\"\n",
    "\n",
    "print(john)\n",
    "print(jane)"
   ]
  },
  {
   "cell_type": "markdown",
   "id": "062001d3",
   "metadata": {},
   "source": [
    "### Prototype Factory"
   ]
  },
  {
   "cell_type": "code",
   "execution_count": 24,
   "id": "eb5f53cf",
   "metadata": {},
   "outputs": [],
   "source": [
    "class Address:\n",
    "    def __init__(self, street, city, country):\n",
    "        self.street = street\n",
    "        self.city = city\n",
    "        self.country = country\n",
    "        \n",
    "    def __str__(self):\n",
    "        return f\"Address({self.street}, {self.city}, {self.country})\"\n",
    "        \n",
    "\n",
    "class Employee:\n",
    "    def __init__(self, name, address: Address):\n",
    "        self.name = name\n",
    "        self.address = address\n",
    "    \n",
    "    def __str__(self):\n",
    "        return f\"Person({self.name}) from - {self.address}\"\n",
    "    \n",
    "class EmployeeFactory:\n",
    "    main_office_employee = Employee('', Address('21st', 'Delhi', 'India'))\n",
    "    aux_office_employee = Employee('', Address('47th', 'Bharuch', 'GJ, India'))\n",
    "    \n",
    "    @staticmethod\n",
    "    def __new_employee(proto, name, city):\n",
    "        result = deepcopy(proto)\n",
    "        result.name = name\n",
    "        result.address.city = city\n",
    "        return result\n",
    "    \n",
    "    @staticmethod\n",
    "    def new_main_office_emloyee(name, city):\n",
    "        return EmployeeFactory.__new_employee(\n",
    "            EmployeeFactory.main_office_employee, name, city\n",
    "        )\n",
    "        \n",
    "        \n",
    "    @staticmethod\n",
    "    def aux_main_office_emloyee(name, city):\n",
    "        return EmployeeFactory.__new_employee(\n",
    "            EmployeeFactory.aux_office_employee, name, city\n",
    "        )"
   ]
  },
  {
   "cell_type": "code",
   "execution_count": 26,
   "id": "9005f7bd",
   "metadata": {},
   "outputs": [
    {
     "name": "stdout",
     "output_type": "stream",
     "text": [
      "Person(MRINAL) from - Address(21st, MUZAFFARPUR, India)\n",
      "Person(LUCKY) from - Address(47th, VADODARA, GJ, India)\n"
     ]
    }
   ],
   "source": [
    "mrinal = EmployeeFactory.new_main_office_emloyee(\"MRINAL\", \"MUZAFFARPUR\")\n",
    "print(mrinal)\n",
    "\n",
    "lucky = EmployeeFactory.aux_main_office_emloyee(\"LUCKY\", \"VADODARA\")\n",
    "print(lucky)"
   ]
  },
  {
   "cell_type": "markdown",
   "id": "42fdd7e3",
   "metadata": {},
   "source": [
    "## Summary\n",
    "- To implement a prototype, partially construct an object and store it somewhere\n",
    "- Deep copy the prototype\n",
    "- Customize the resulting instance\n",
    "- A factory provides a convenitent API for using prototype"
   ]
  },
  {
   "cell_type": "code",
   "execution_count": null,
   "id": "02f18172",
   "metadata": {},
   "outputs": [],
   "source": []
  }
 ],
 "metadata": {
  "kernelspec": {
   "display_name": "Python 3 (ipykernel)",
   "language": "python",
   "name": "python3"
  },
  "language_info": {
   "codemirror_mode": {
    "name": "ipython",
    "version": 3
   },
   "file_extension": ".py",
   "mimetype": "text/x-python",
   "name": "python",
   "nbconvert_exporter": "python",
   "pygments_lexer": "ipython3",
   "version": "3.10.4"
  }
 },
 "nbformat": 4,
 "nbformat_minor": 5
}
