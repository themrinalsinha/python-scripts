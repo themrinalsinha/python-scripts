{
 "cells": [
  {
   "cell_type": "markdown",
   "id": "51649393",
   "metadata": {},
   "source": [
    "### Gamma Categorization\n",
    "\n",
    "- Design Patters are typically split into three categories\n",
    "- This is called _Gamma Categorization_ after Eric Gamma, one of GoF authors\n",
    "\n",
    "**Creational Patterns**\n",
    "- Deals with creation (construction) of objects.\n",
    "- Explicit (constructor) vs. implicit (DI, reflection, etc.)\n",
    "- Wholesale (single statement) vs. piecewise (step-by-step)\n",
    "\n",
    "**Structural Patterns**\n",
    "- Concerned with the structure (eg. class members)\n",
    "- Many patterns are wrappers that mimic the underlying class interface\n",
    "- Stress the importance of good API design\n",
    "\n",
    "**Behavioral Pattern**\n",
    "- They are all different; no central theme\n",
    "\n",
    "-----"
   ]
  },
  {
   "cell_type": "markdown",
   "id": "17485a52",
   "metadata": {},
   "source": [
    "# Builder Design Pattern\n",
    "When construction gets a little bit too complicated\n",
    "\n",
    "- Some objects are simple and can be created in a single initilizer call\n",
    "- Other objects requires a lot of ceremony to create\n",
    "- Having an object with 10 initializer argument is not productive\n",
    "- Instead, opt for piecewise construction\n",
    "- Builder provides an API for constructing an object step-by-step\n",
    "----\n",
    "\n",
    "Def: When piecewise object construction is complicated, provide an API for doing it succinctly"
   ]
  },
  {
   "cell_type": "markdown",
   "id": "9275eb5e",
   "metadata": {},
   "source": [
    "Why do we need it?\n",
    "- Builder is required when you have some sort of construction of object, so not just constructing an object in a single statement, but actually taking several statements to construct something. "
   ]
  },
  {
   "cell_type": "code",
   "execution_count": 2,
   "id": "c708aa9b",
   "metadata": {},
   "outputs": [
    {
     "name": "stdout",
     "output_type": "stream",
     "text": [
      "<p>Hello</p>\n"
     ]
    }
   ],
   "source": [
    "text = \"Hello\"\n",
    "parts = ['<p>', text, '</p>']\n",
    "print(\"\".join(parts))"
   ]
  },
  {
   "cell_type": "markdown",
   "id": "1a966b92",
   "metadata": {},
   "source": [
    "The above example is quite simple, it just took 2 lines to generate\n",
    "\n",
    "Now, let's say you given bunch of words and you are suppose to make an HTML list out of it"
   ]
  },
  {
   "cell_type": "code",
   "execution_count": 4,
   "id": "15ea74b0",
   "metadata": {},
   "outputs": [
    {
     "name": "stdout",
     "output_type": "stream",
     "text": [
      "<ul>\n",
      "    <li>hello</li>\n",
      "    <li>world</li>\n",
      "</ul>\n"
     ]
    }
   ],
   "source": [
    "words = ['hello', 'world']\n",
    "parts = ['<ul>']\n",
    "for w in words:\n",
    "    parts.append(f\"    <li>{w}</li>\")\n",
    "parts.append('</ul>')\n",
    "\n",
    "print(\"\\n\".join(parts))"
   ]
  },
  {
   "cell_type": "markdown",
   "id": "6befacdd",
   "metadata": {},
   "source": [
    "Now, in the above example, you have to write 5 lines of code to generate the html tag.\n",
    "Now, what we want is if someone is using any html tag, we want it to be generated with proper closing tag"
   ]
  },
  {
   "cell_type": "code",
   "execution_count": 7,
   "id": "54ce77c1",
   "metadata": {},
   "outputs": [
    {
     "name": "stdout",
     "output_type": "stream",
     "text": [
      "ORDINARY BUILDER\n",
      "<ul>\n",
      "  <li>\n",
      "    hello\n",
      "  </li>\n",
      "  <li>\n",
      "    world\n",
      "  </li>\n",
      "</ul>\n"
     ]
    }
   ],
   "source": [
    "class HtmlElement:\n",
    "    indent_size = 2\n",
    "    \n",
    "    def __init__(self, name='', text=''):\n",
    "        self.text = text\n",
    "        self.name = name\n",
    "        self.elements = []\n",
    "        \n",
    "    def __str(self, indent):\n",
    "        lines = []\n",
    "        i = ' ' * (indent * self.indent_size)\n",
    "        lines.append(f\"{i}<{self.name}>\")\n",
    "        \n",
    "        if self.text:\n",
    "            i1 = ' ' * ((indent + 1) * self.indent_size)\n",
    "            lines.append(f\"{i1}{self.text}\")\n",
    "            \n",
    "        for e in self.elements:\n",
    "            lines.append(e.__str(indent + 1))\n",
    "            \n",
    "        lines.append(f\"{i}</{self.name}>\")\n",
    "        return \"\\n\".join(lines)\n",
    "    \n",
    "    def __str__(self):\n",
    "        return self.__str(0)\n",
    "    \n",
    "class HtmlBuilder:\n",
    "    def __init__(self, root_name):\n",
    "        self.root_name = root_name\n",
    "        self.__root = HtmlElement(name=root_name)\n",
    "        \n",
    "    def __str__(self):\n",
    "        return str(self.__root)\n",
    "    \n",
    "    def add_child(self, child_name, child_text):\n",
    "        self.__root.elements.append(\n",
    "            HtmlElement(child_name, child_text)\n",
    "        )\n",
    "        \n",
    "    def add_child_fluent(self, child_name, child_text):\n",
    "        self.__root.elements.append(\n",
    "            HtmlElement(child_name, child_text)\n",
    "        )\n",
    "        return self\n",
    "        \n",
    "builder = HtmlBuilder(\"ul\")\n",
    "builder.add_child(\"li\", \"hello\")\n",
    "builder.add_child(\"li\", \"world\")\n",
    "\n",
    "print(\"ORDINARY BUILDER\")\n",
    "print(builder)"
   ]
  },
  {
   "cell_type": "code",
   "execution_count": 9,
   "id": "4c0be8a4",
   "metadata": {},
   "outputs": [
    {
     "name": "stdout",
     "output_type": "stream",
     "text": [
      "ORDINARY BUILDER\n",
      "<ul>\n",
      "  <li>\n",
      "    hello\n",
      "  </li>\n",
      "  <li>\n",
      "    world\n",
      "  </li>\n",
      "</ul>\n"
     ]
    }
   ],
   "source": [
    "builder = HtmlBuilder(\"ul\")\n",
    "builder.add_child_fluent(\"li\", \"hello\").add_child_fluent(\"li\", \"world\")\n",
    "\n",
    "print(\"ORDINARY BUILDER\")\n",
    "print(builder)"
   ]
  },
  {
   "cell_type": "markdown",
   "id": "bb48d814",
   "metadata": {},
   "source": [
    "### Builder Facets\n",
    "\n",
    "Now we'll see the complications of the builder design pattern, Sometimes you have an object that is so complicated that you need more than one builder to do it. So, how can we do that. "
   ]
  },
  {
   "cell_type": "code",
   "execution_count": 11,
   "id": "e637960c",
   "metadata": {},
   "outputs": [],
   "source": [
    "class Person:\n",
    "    def __init__(self):\n",
    "        \n",
    "        # address\n",
    "        self.street_address = None\n",
    "        self.postcode = None\n",
    "        self.city = None\n",
    "        \n",
    "        # employment\n",
    "        self.company_name = None\n",
    "        self.position = None\n",
    "        self.annual_income = None\n",
    "    \n",
    "    def __str__(self) -> str:\n",
    "        return (\n",
    "            f\"Address: {self.street_address}, {self.postcode}, {self.city} \"\n",
    "            f\"Employed at: {self.company_name} as a {self.position} earning {self.annual_income}\"\n",
    "        )\n",
    "    \n",
    "class PersonBuilder:\n",
    "    def __init__(self, person=Person()):\n",
    "        self.person = person\n",
    "        \n",
    "    @property\n",
    "    def works(self):\n",
    "        return PersonJobBuilder(self.person)\n",
    "    \n",
    "    @property\n",
    "    def lives(self):\n",
    "        return PersonAddressBuilder(self.person)\n",
    "        \n",
    "    def build(self):\n",
    "        return self.person\n",
    "\n",
    "    \n",
    "class PersonJobBuilder(PersonBuilder):\n",
    "    def __init__(self, person):\n",
    "        super().__init__(person)\n",
    "        \n",
    "    def at(self, company_name):\n",
    "        self.person.company_name = company_name\n",
    "        return self\n",
    "    \n",
    "    def as_a(self, position):\n",
    "        self.person.position = position\n",
    "        return self\n",
    "    \n",
    "    def earning(self, annual_income):\n",
    "        self.person.annual_income = annual_income\n",
    "        return self\n",
    "    \n",
    "    \n",
    "class PersonAddressBuilder(PersonBuilder):\n",
    "    def __init__(self, person):\n",
    "        super().__init__(person)\n",
    "        \n",
    "    def at(self, street_address):\n",
    "        self.person.street_address = street_address\n",
    "        return self\n",
    "    \n",
    "    def with_postcode(self, postcode):\n",
    "        self.person.postcode = postcode\n",
    "        return self\n",
    "    \n",
    "    def in_city(self, city):\n",
    "        self.person.city = city\n",
    "        return self"
   ]
  },
  {
   "cell_type": "markdown",
   "id": "fadee63d",
   "metadata": {},
   "source": [
    "We now constructed an interface where you can use two builders `PersonJobBuilder` and `PersonAddressBuilder` interchangabely through a common API because they both inherit from person builder"
   ]
  },
  {
   "cell_type": "code",
   "execution_count": 17,
   "id": "8eeea0a1",
   "metadata": {},
   "outputs": [],
   "source": [
    "pb = PersonBuilder()\n",
    "person = pb\\\n",
    "        .lives\\\n",
    "            .at('123 London Road')\\\n",
    "            .in_city(\"London\")\\\n",
    "            .with_postcode(\"SW12BC\")\\\n",
    "        .works\\\n",
    "            .at(\"Fabrikan\")\\\n",
    "            .as_a(\"software engineer\")\\\n",
    "            .earning(\"50000\")\\\n",
    "        .build()"
   ]
  },
  {
   "cell_type": "code",
   "execution_count": 18,
   "id": "1aff91d8",
   "metadata": {},
   "outputs": [
    {
     "data": {
      "text/plain": [
       "<__main__.Person at 0x7f25776b55a0>"
      ]
     },
     "execution_count": 18,
     "metadata": {},
     "output_type": "execute_result"
    }
   ],
   "source": [
    "person"
   ]
  },
  {
   "cell_type": "code",
   "execution_count": 20,
   "id": "a02ef2a8",
   "metadata": {},
   "outputs": [
    {
     "name": "stdout",
     "output_type": "stream",
     "text": [
      "Address: 123 London Road, SW12BC, London Employed at: Fabrikan as a software engineer earning 50000\n"
     ]
    }
   ],
   "source": [
    "print(str(person))"
   ]
  },
  {
   "cell_type": "markdown",
   "id": "5b0fd2a6",
   "metadata": {},
   "source": [
    "### Builder Inheritance\n",
    "\n",
    "One of the things you might have noticed is that, it violates the open-closed principle, because whenever you have a new sub-builder you have to add it to the PersonBuilder, so there is an alternative approach to this entire story is to simply use inheritance."
   ]
  },
  {
   "cell_type": "code",
   "execution_count": 22,
   "id": "60b530af",
   "metadata": {},
   "outputs": [
    {
     "name": "stdout",
     "output_type": "stream",
     "text": [
      "Dmitri | Quant | 1/1/1980\n"
     ]
    }
   ],
   "source": [
    "class Person:\n",
    "    def __init__(self):\n",
    "        self.name = None\n",
    "        self.position = None\n",
    "        self.date_of_birth = None\n",
    "        \n",
    "    def __str__(self):\n",
    "        return f\"{self.name} | {self.position} | {self.date_of_birth}\"\n",
    "    \n",
    "    @staticmethod\n",
    "    def new():\n",
    "        return PersonBuilder()\n",
    "    \n",
    "class PersonBuilder:\n",
    "    def __init__(self):\n",
    "        self.person = Person()\n",
    "        \n",
    "    def build(self):\n",
    "        return self.person\n",
    "    \n",
    "class PersonInfoBulder(PersonBuilder):\n",
    "    def called(self, name):\n",
    "        self.person.name = name\n",
    "        return self\n",
    "    \n",
    "class PersonJobBuilder(PersonInfoBulder):\n",
    "    def works_as_a(self, position):\n",
    "        self.person.position = position\n",
    "        return self\n",
    "    \n",
    "class PersonBirthDateBuilder(PersonJobBuilder):\n",
    "    def born(self, date_of_birth):\n",
    "        self.person.date_of_birth = date_of_birth\n",
    "        return self\n",
    "    \n",
    "pb = PersonBirthDateBuilder()\n",
    "me = pb\\\n",
    "        .called(\"Dmitri\")\\\n",
    "        .works_as_a(\"Quant\")\\\n",
    "        .born(\"1/1/1980\")\\\n",
    "        .build()\n",
    "print(str(me))"
   ]
  },
  {
   "cell_type": "markdown",
   "id": "10103c02",
   "metadata": {},
   "source": [
    "## Summary\n",
    "- A builder is a separate component for building an object\n",
    "- Can either give builder an initializer or return it via a static function\n",
    "- To make builder fluent, return self\n",
    "- Different facets of an object can built with different builders working in tandem via a base class"
   ]
  },
  {
   "cell_type": "code",
   "execution_count": null,
   "id": "113a249a",
   "metadata": {},
   "outputs": [],
   "source": []
  }
 ],
 "metadata": {
  "kernelspec": {
   "display_name": "Python 3 (ipykernel)",
   "language": "python",
   "name": "python3"
  },
  "language_info": {
   "codemirror_mode": {
    "name": "ipython",
    "version": 3
   },
   "file_extension": ".py",
   "mimetype": "text/x-python",
   "name": "python",
   "nbconvert_exporter": "python",
   "pygments_lexer": "ipython3",
   "version": "3.10.4"
  }
 },
 "nbformat": 4,
 "nbformat_minor": 5
}
